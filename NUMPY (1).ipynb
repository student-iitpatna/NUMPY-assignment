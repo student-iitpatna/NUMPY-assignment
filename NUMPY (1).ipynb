{
  "nbformat": 4,
  "nbformat_minor": 0,
  "metadata": {
    "colab": {
      "provenance": []
    },
    "kernelspec": {
      "name": "python3",
      "display_name": "Python 3"
    },
    "language_info": {
      "name": "python"
    }
  },
  "cells": [
    {
      "cell_type": "markdown",
      "source": [
        "**THEORETICAL QUESTIONS**"
      ],
      "metadata": {
        "id": "-M5MxFtougUr"
      }
    },
    {
      "cell_type": "markdown",
      "source": [
        "1.. Explain the purpose and advantages of NumPy in scientific computing and data analysis. How does it\n",
        "enhance Python's capabilities for numerical operations?\n",
        "\n",
        "ANSWER: Purpose and Advantages of NumPy in Scientific Computing and Data Analysis\n",
        "Purpose:\n",
        "NumPy is a fundamental package for numerical computing in Python. It provides support for large, multi-dimensional arrays and matrices, along with a collection of high-performance mathematical functions to operate on them.\n",
        "\n",
        "Advantages:\n",
        "\n",
        "*Efficiency: NumPy operations are implemented in C, making them much faster than native Python loops.\n",
        "\n",
        "*Array-Oriented Computing: Efficient handling of large data arrays without explicit looping.\n",
        "\n",
        "*Broadcasting and Vectorization: Allows element-wise operations without writing loops.\n",
        "\n",
        "*Integration: Works well with other scientific libraries (e.g., SciPy, pandas, matplotlib).\n",
        "\n",
        "*Memory Efficiency: Uses less memory than Python lists for large data.\n",
        "\n"
      ],
      "metadata": {
        "id": "BhNdQWhcqkYB"
      }
    },
    {
      "cell_type": "markdown",
      "source": [
        "2.Compare and contrast np.mean() and np.average() functions in NumPy. When would you use one over the\n",
        "other?\n",
        "\n",
        "ANSWER : np.mean() vs np.average()\n",
        "*np.mean(): Computes the arithmetic mean along the specified axis. It treats all values equally.\n",
        "\n",
        "*np.average(): Also computes the mean, but allows weights to be specified.\n",
        "\n",
        "When to use:\n",
        "\n",
        "*Use np.mean() when each element contributes equally.\n",
        "\n",
        "*Use np.average() when some elements should contribute more (weighted average).\n"
      ],
      "metadata": {
        "id": "DquLYELWrHSm"
      }
    },
    {
      "cell_type": "markdown",
      "source": [
        "3.Describe the methods for reversing a NumPy array along different axes. Provide examples for 1D and 2D\n",
        "arrays.\n",
        "\n",
        "ANSWER :  Reversing a NumPy Array Along Axes\n",
        "  \n",
        "  *1D Array:"
      ],
      "metadata": {
        "id": "aE3x7wubriFc"
      }
    },
    {
      "cell_type": "code",
      "source": [
        "import numpy as np\n",
        "a = np.array([1, 2, 3])\n",
        "a[::-1]"
      ],
      "metadata": {
        "colab": {
          "base_uri": "https://localhost:8080/"
        },
        "id": "ezUcRiZxrqMk",
        "outputId": "f4ebade1-7303-407b-d871-72d743116c11"
      },
      "execution_count": 2,
      "outputs": [
        {
          "output_type": "execute_result",
          "data": {
            "text/plain": [
              "array([3, 2, 1])"
            ]
          },
          "metadata": {},
          "execution_count": 2
        }
      ]
    },
    {
      "cell_type": "markdown",
      "source": [
        "* 2D array:\n"
      ],
      "metadata": {
        "id": "kWMYIx0Zr_zF"
      }
    },
    {
      "cell_type": "code",
      "source": [
        "b = np.array([[1, 2], [3, 4]])\n",
        "b[::-1]      # Reverses rows\n",
        "b[:, ::-1]   # Reverses columns\n",
        "b[::-1, ::-1]"
      ],
      "metadata": {
        "colab": {
          "base_uri": "https://localhost:8080/"
        },
        "id": "7jJUGCaRsH9v",
        "outputId": "6522087b-7da1-46d1-ae27-cf81f02db6f2"
      },
      "execution_count": 3,
      "outputs": [
        {
          "output_type": "execute_result",
          "data": {
            "text/plain": [
              "array([[4, 3],\n",
              "       [2, 1]])"
            ]
          },
          "metadata": {},
          "execution_count": 3
        }
      ]
    },
    {
      "cell_type": "markdown",
      "source": [
        "4.How can you determine the data type of elements in a NumPy array? Discuss the importance of data types\n",
        "in memory management and performance.\n",
        "\n",
        "ANSWER : Determining Data Type and Its Importance\n",
        "\n",
        "Method:"
      ],
      "metadata": {
        "id": "ZDJ6OdsYsN2v"
      }
    },
    {
      "cell_type": "code",
      "source": [
        "arr = np.array([1, 2, 3])\n",
        "print(arr.dtype)"
      ],
      "metadata": {
        "colab": {
          "base_uri": "https://localhost:8080/"
        },
        "id": "RJYQGqidsZJc",
        "outputId": "655f7d31-55b2-4a74-d54c-616d369e9bdb"
      },
      "execution_count": 4,
      "outputs": [
        {
          "output_type": "stream",
          "name": "stdout",
          "text": [
            "int64\n"
          ]
        }
      ]
    },
    {
      "cell_type": "markdown",
      "source": [
        "Importance:\n",
        "\n",
        "*Memory Management: NumPy arrays use fixed, uniform data types for memory efficiency.\n",
        "\n",
        "*Performance: Operations are optimized for specific data types (e.g., float32 vs float64).\n",
        "\n",
        "*Compatibility: Ensures data consistency when passing between functions or libraries.\n",
        "\n",
        "\n"
      ],
      "metadata": {
        "id": "kTUI4VWGsekM"
      }
    },
    {
      "cell_type": "markdown",
      "source": [
        "5. Define ndarrays in NumPy and explain their key features. How do they differ from standard Python lists?\n",
        "\n",
        "ANSWER : Defining ndarray and Its Key Features\n",
        "*ndarray: The core data structure in NumPy, representing an n-dimensional array.\n",
        "\n",
        "Key Features:\n",
        "\n",
        "*Fixed size, homogeneous data types.\n",
        "\n",
        "*Efficient memory layout.\n",
        "\n",
        "*Supports vectorized operations.\n",
        "\n",
        "*Built-in broadcasting.\n",
        "\n",
        "Difference from Lists:\n",
        "\n",
        "*Lists are heterogeneous, dynamic, and slower for numerical computations.\n",
        "\n",
        "*ndarray enables element-wise operations without loops."
      ],
      "metadata": {
        "id": "wUWaiTeKsoD1"
      }
    },
    {
      "cell_type": "markdown",
      "source": [
        "6. Analyze the performance benefits of NumPy arrays over Python lists for large-scale numerical operations.\n",
        "\n",
        "ANSWER :  Performance Benefits of NumPy Arrays Over Python Lists\n",
        "Speed: NumPy uses compiled C code under the hood.\n",
        "\n",
        "Vectorization: Eliminates Python loops, improving speed.\n",
        "\n",
        "Memory: Contiguous memory layout vs. pointers in lists.\n",
        "\n",
        "Operations: Batch operations (e.g., dot product,sum)"
      ],
      "metadata": {
        "id": "pcoiDZZKs46Q"
      }
    },
    {
      "cell_type": "code",
      "source": [
        "# Sum of large arrays\n",
        "import time\n",
        "a = np.arange(1e6)\n",
        "b = list(range(int(1e6)))\n",
        "\n",
        "start = time.time(); sum(a); print(\"NumPy:\", time.time() - start)\n",
        "start = time.time(); sum(b); print(\"List:\", time.time() - start)"
      ],
      "metadata": {
        "colab": {
          "base_uri": "https://localhost:8080/"
        },
        "id": "LfZGvlXutJhC",
        "outputId": "f6b489c6-8e1f-45f4-a160-d71a5218865a"
      },
      "execution_count": 5,
      "outputs": [
        {
          "output_type": "stream",
          "name": "stdout",
          "text": [
            "NumPy: 0.10098600387573242\n",
            "List: 0.00826406478881836\n"
          ]
        }
      ]
    },
    {
      "cell_type": "markdown",
      "source": [
        "7. Compare vstack() and hstack() functions in NumPy. Provide examples demonstrating their usage and\n",
        "output.\n",
        "\n",
        "ANSWER : vstack() vs hstack()\n",
        "\n",
        "*vstack() (vertical): Stack arrays row-wise (increases row count).\n",
        "\n",
        "*hstack() (horizontal): Stack arrays column-wise (increases column count)."
      ],
      "metadata": {
        "id": "Nxbo8V9ttN5B"
      }
    },
    {
      "cell_type": "code",
      "source": [
        "a = np.array([1, 2])\n",
        "b = np.array([3, 4])\n",
        "\n",
        "np.vstack((a, b))\n"
      ],
      "metadata": {
        "colab": {
          "base_uri": "https://localhost:8080/"
        },
        "id": "ab5P368JtX0X",
        "outputId": "204f1208-1a01-4480-ed46-f245ea18b8a6"
      },
      "execution_count": 7,
      "outputs": [
        {
          "output_type": "execute_result",
          "data": {
            "text/plain": [
              "array([[1, 2],\n",
              "       [3, 4]])"
            ]
          },
          "metadata": {},
          "execution_count": 7
        }
      ]
    },
    {
      "cell_type": "code",
      "source": [
        "a = np.array([1, 2])\n",
        "b = np.array([3, 4])\n",
        "\n",
        "np.hstack((a, b))"
      ],
      "metadata": {
        "colab": {
          "base_uri": "https://localhost:8080/"
        },
        "id": "jOhPqkIvteqj",
        "outputId": "f38a636f-6201-4f1e-ff03-f8803d146cbe"
      },
      "execution_count": 8,
      "outputs": [
        {
          "output_type": "execute_result",
          "data": {
            "text/plain": [
              "array([1, 2, 3, 4])"
            ]
          },
          "metadata": {},
          "execution_count": 8
        }
      ]
    },
    {
      "cell_type": "markdown",
      "source": [
        "8. Explain the differences between fliplr() and flipud() methods in NumPy, including their effects on various\n",
        "array dimensions.\n",
        "\n",
        "ANSWER : fliplr() vs flipud()\n",
        "\n",
        "*fliplr(): Flips array left to right (columns).\n",
        "\n",
        "*flipud(): Flips array upside down (rows)."
      ],
      "metadata": {
        "id": "6DOhUPWhtlAe"
      }
    },
    {
      "cell_type": "code",
      "source": [
        "a = np.array([[1, 2], [3, 4]])\n",
        "\n",
        "np.fliplr(a)\n"
      ],
      "metadata": {
        "colab": {
          "base_uri": "https://localhost:8080/"
        },
        "id": "XGEvOCSttuTg",
        "outputId": "8f239881-1bab-4096-eb00-85d0ee965672"
      },
      "execution_count": 9,
      "outputs": [
        {
          "output_type": "execute_result",
          "data": {
            "text/plain": [
              "array([[2, 1],\n",
              "       [4, 3]])"
            ]
          },
          "metadata": {},
          "execution_count": 9
        }
      ]
    },
    {
      "cell_type": "code",
      "source": [
        "a = np.array([[1, 2], [3, 4]])\n",
        "np.flipud(a)"
      ],
      "metadata": {
        "colab": {
          "base_uri": "https://localhost:8080/"
        },
        "id": "7plNJlxit1FG",
        "outputId": "c125c5e1-0edb-445f-a6fc-db17231b5fdd"
      },
      "execution_count": 10,
      "outputs": [
        {
          "output_type": "execute_result",
          "data": {
            "text/plain": [
              "array([[3, 4],\n",
              "       [1, 2]])"
            ]
          },
          "metadata": {},
          "execution_count": 10
        }
      ]
    },
    {
      "cell_type": "markdown",
      "source": [
        "9. Discuss the functionality of the array_split() method in NumPy. How does it handle uneven splits?\n",
        "\n",
        "ANSWER :Functionality of array_split()\n",
        "\n",
        "*Purpose: Split arrays into sub-arrays. Unlike split(), it allows uneven splits."
      ],
      "metadata": {
        "id": "vIY4jAe6t5T8"
      }
    },
    {
      "cell_type": "code",
      "source": [
        "a = np.array([1, 2, 3, 4, 5])\n",
        "np.array_split(a, 3)"
      ],
      "metadata": {
        "colab": {
          "base_uri": "https://localhost:8080/"
        },
        "id": "Rj_8v56HuBfG",
        "outputId": "9818bd61-70f1-4a98-992a-519ff025c92b"
      },
      "execution_count": 11,
      "outputs": [
        {
          "output_type": "execute_result",
          "data": {
            "text/plain": [
              "[array([1, 2]), array([3, 4]), array([5])]"
            ]
          },
          "metadata": {},
          "execution_count": 11
        }
      ]
    },
    {
      "cell_type": "markdown",
      "source": [
        "10. Explain the concepts of vectorization and broadcasting in NumPy. How do they contribute to efficient array\n",
        "operations?\n",
        "\n",
        "ANSWER : Vectorization and Broadcasting\n",
        "\n",
        "*Vectorization: Performing operations on entire arrays without explicit loops.\n",
        "\n",
        "*Increases performance by leveraging low-level optimizations."
      ],
      "metadata": {
        "id": "wN7KBMg1uFhk"
      }
    },
    {
      "cell_type": "code",
      "source": [
        "a + b  # Element-wise addition, vectorized"
      ],
      "metadata": {
        "id": "a00QvRtOuN2G"
      },
      "execution_count": null,
      "outputs": []
    },
    {
      "cell_type": "markdown",
      "source": [
        "*Broadcasting: Automatically expands arrays of different shapes to enable operations."
      ],
      "metadata": {
        "id": "rlcoPWYYuSc2"
      }
    },
    {
      "cell_type": "code",
      "source": [
        "a = np.array([[1], [2], [3]])\n",
        "b = np.array([10, 20])\n",
        "a + b"
      ],
      "metadata": {
        "colab": {
          "base_uri": "https://localhost:8080/"
        },
        "id": "Yvu8n3FKuWyg",
        "outputId": "75f5c501-7636-4b51-9225-67ee803ea1ac"
      },
      "execution_count": 12,
      "outputs": [
        {
          "output_type": "execute_result",
          "data": {
            "text/plain": [
              "array([[11, 21],\n",
              "       [12, 22],\n",
              "       [13, 23]])"
            ]
          },
          "metadata": {},
          "execution_count": 12
        }
      ]
    },
    {
      "cell_type": "markdown",
      "source": [
        "**PRACTICAL QUESTIONS**"
      ],
      "metadata": {
        "id": "4PMLcPjruaBe"
      }
    },
    {
      "cell_type": "markdown",
      "source": [
        "1. Create 3x3 Array with Random Integers & Transpose"
      ],
      "metadata": {
        "id": "iDk3Pn5nuvpd"
      }
    },
    {
      "cell_type": "code",
      "source": [
        "import numpy as np\n",
        "\n",
        "arr = np.random.randint(1, 101, (3, 3))\n",
        "print(\"Original array:\\n\", arr)\n",
        "\n",
        "transposed = arr.T  # or np.transpose(arr)\n",
        "print(\"Transposed array:\\n\", transposed)"
      ],
      "metadata": {
        "colab": {
          "base_uri": "https://localhost:8080/"
        },
        "id": "98e6dRZNuxv7",
        "outputId": "d6100e6e-5420-472b-b77c-3657cb070684"
      },
      "execution_count": 13,
      "outputs": [
        {
          "output_type": "stream",
          "name": "stdout",
          "text": [
            "Original array:\n",
            " [[71 55 29]\n",
            " [57  7 75]\n",
            " [79 45 99]]\n",
            "Transposed array:\n",
            " [[71 57 79]\n",
            " [55  7 45]\n",
            " [29 75 99]]\n"
          ]
        }
      ]
    },
    {
      "cell_type": "markdown",
      "source": [
        "2. 1D Array → 2x5 → 5x2"
      ],
      "metadata": {
        "id": "_LqcqW2Hu4W1"
      }
    },
    {
      "cell_type": "code",
      "source": [
        "arr1d = np.arange(10)\n",
        "arr2x5 = arr1d.reshape(2, 5)\n",
        "arr5x2 = arr2x5.reshape(5, 2)\n",
        "print(\"2x5:\\n\", arr2x5)\n",
        "print(\"5x2:\\n\", arr5x2)"
      ],
      "metadata": {
        "colab": {
          "base_uri": "https://localhost:8080/"
        },
        "id": "hWunmm3Ou63x",
        "outputId": "bb6ef3c2-3b5c-410f-dac2-00423b2c451f"
      },
      "execution_count": 14,
      "outputs": [
        {
          "output_type": "stream",
          "name": "stdout",
          "text": [
            "2x5:\n",
            " [[0 1 2 3 4]\n",
            " [5 6 7 8 9]]\n",
            "5x2:\n",
            " [[0 1]\n",
            " [2 3]\n",
            " [4 5]\n",
            " [6 7]\n",
            " [8 9]]\n"
          ]
        }
      ]
    },
    {
      "cell_type": "markdown",
      "source": [
        "3. 4x4 Float Array with Zero Border"
      ],
      "metadata": {
        "id": "pQSx3F0Ku90M"
      }
    },
    {
      "cell_type": "code",
      "source": [
        "arr4x4 = np.random.rand(4, 4)\n",
        "bordered = np.pad(arr4x4, pad_width=1, mode='constant', constant_values=0)\n",
        "print(\"6x6 with border:\\n\", bordered)"
      ],
      "metadata": {
        "colab": {
          "base_uri": "https://localhost:8080/"
        },
        "id": "723VkqYHu_9v",
        "outputId": "c24daa48-38f1-4cf4-dc51-f8cefdefa2d5"
      },
      "execution_count": 15,
      "outputs": [
        {
          "output_type": "stream",
          "name": "stdout",
          "text": [
            "6x6 with border:\n",
            " [[0.         0.         0.         0.         0.         0.        ]\n",
            " [0.         0.50326625 0.19087876 0.79231126 0.76815411 0.        ]\n",
            " [0.         0.99665738 0.32503148 0.57272308 0.35670178 0.        ]\n",
            " [0.         0.81628728 0.42489022 0.27160196 0.72884003 0.        ]\n",
            " [0.         0.3361686  0.11754483 0.64740365 0.06084047 0.        ]\n",
            " [0.         0.         0.         0.         0.         0.        ]]\n"
          ]
        }
      ]
    },
    {
      "cell_type": "markdown",
      "source": [
        "4.  Array of Integers from 10 to 60 (Step 5)"
      ],
      "metadata": {
        "id": "AJAMZmljvD8D"
      }
    },
    {
      "cell_type": "code",
      "source": [
        "step_arr = np.arange(10, 61, 5)\n",
        "print(step_arr)"
      ],
      "metadata": {
        "colab": {
          "base_uri": "https://localhost:8080/"
        },
        "id": "K7amqOomvGfp",
        "outputId": "607b5189-77fb-4b65-fcc1-0f10b13aff9a"
      },
      "execution_count": 16,
      "outputs": [
        {
          "output_type": "stream",
          "name": "stdout",
          "text": [
            "[10 15 20 25 30 35 40 45 50 55 60]\n"
          ]
        }
      ]
    },
    {
      "cell_type": "markdown",
      "source": [
        "5. Case Transformations on String Array"
      ],
      "metadata": {
        "id": "_2BO9lfvvKWC"
      }
    },
    {
      "cell_type": "code",
      "source": [
        "arr = np.array(['python', 'numpy', 'pandas'])\n",
        "\n",
        "upper = np.char.upper(arr)\n",
        "lower = np.char.lower(arr)\n",
        "title = np.char.title(arr)\n",
        "\n",
        "print(\"Upper:\", upper)\n",
        "print(\"Lower:\", lower)\n",
        "print(\"Title:\", title)"
      ],
      "metadata": {
        "colab": {
          "base_uri": "https://localhost:8080/"
        },
        "id": "0v9SdcyyvM3m",
        "outputId": "0c762b24-0706-4c31-af4d-b447610c579f"
      },
      "execution_count": 17,
      "outputs": [
        {
          "output_type": "stream",
          "name": "stdout",
          "text": [
            "Upper: ['PYTHON' 'NUMPY' 'PANDAS']\n",
            "Lower: ['python' 'numpy' 'pandas']\n",
            "Title: ['Python' 'Numpy' 'Pandas']\n"
          ]
        }
      ]
    },
    {
      "cell_type": "markdown",
      "source": [
        "6. Insert Space Between Each Character"
      ],
      "metadata": {
        "id": "6prXm1ClvQS3"
      }
    },
    {
      "cell_type": "code",
      "source": [
        "words = np.array(['data', 'array', 'python'])\n",
        "spaced = np.char.join(' ', words)\n",
        "print(spaced)\n"
      ],
      "metadata": {
        "colab": {
          "base_uri": "https://localhost:8080/"
        },
        "id": "IeYKe8f5vSTh",
        "outputId": "7dbc4798-4b0e-466d-fdbb-2c237aeac059"
      },
      "execution_count": 18,
      "outputs": [
        {
          "output_type": "stream",
          "name": "stdout",
          "text": [
            "['d a t a' 'a r r a y' 'p y t h o n']\n"
          ]
        }
      ]
    },
    {
      "cell_type": "markdown",
      "source": [
        "7. Element-wise Operations on 2D Arrays"
      ],
      "metadata": {
        "id": "OHQwFbxRvVb_"
      }
    },
    {
      "cell_type": "code",
      "source": [
        "a = np.array([[1, 2], [3, 4]])\n",
        "b = np.array([[5, 6], [7, 8]])\n",
        "\n",
        "print(\"Addition:\\n\", a + b)\n",
        "print(\"Subtraction:\\n\", a - b)\n",
        "print(\"Multiplication:\\n\", a * b)\n",
        "print(\"Division:\\n\", a / b)"
      ],
      "metadata": {
        "colab": {
          "base_uri": "https://localhost:8080/"
        },
        "id": "XtebWO9dvXvc",
        "outputId": "3376d9c1-a83b-4f3a-c810-662b72115546"
      },
      "execution_count": 19,
      "outputs": [
        {
          "output_type": "stream",
          "name": "stdout",
          "text": [
            "Addition:\n",
            " [[ 6  8]\n",
            " [10 12]]\n",
            "Subtraction:\n",
            " [[-4 -4]\n",
            " [-4 -4]]\n",
            "Multiplication:\n",
            " [[ 5 12]\n",
            " [21 32]]\n",
            "Division:\n",
            " [[0.2        0.33333333]\n",
            " [0.42857143 0.5       ]]\n"
          ]
        }
      ]
    },
    {
      "cell_type": "markdown",
      "source": [
        "8.  5x5 Identity Matrix & Extract Diagonal"
      ],
      "metadata": {
        "id": "Vy6NGdsOvaIC"
      }
    },
    {
      "cell_type": "code",
      "source": [
        "identity = np.eye(5)\n",
        "diagonal = np.diag(identity)\n",
        "print(\"Diagonal elements:\", diagonal)"
      ],
      "metadata": {
        "colab": {
          "base_uri": "https://localhost:8080/"
        },
        "id": "GCZ6UklxvctV",
        "outputId": "a6760524-8d9c-449b-e19a-a20234d55472"
      },
      "execution_count": 20,
      "outputs": [
        {
          "output_type": "stream",
          "name": "stdout",
          "text": [
            "Diagonal elements: [1. 1. 1. 1. 1.]\n"
          ]
        }
      ]
    },
    {
      "cell_type": "markdown",
      "source": [
        "9. Find Prime Numbers in Random Integer Array"
      ],
      "metadata": {
        "id": "CB5EI29cvfGO"
      }
    },
    {
      "cell_type": "code",
      "source": [
        "def is_prime(n):\n",
        "    if n < 2:\n",
        "        return False\n",
        "    for i in range(2, int(n**0.5)+1):\n",
        "        if n % i == 0:\n",
        "            return False\n",
        "    return True\n",
        "\n",
        "rand_arr = np.random.randint(0, 1001, 100)\n",
        "primes = rand_arr[np.vectorize(is_prime)(rand_arr)]\n",
        "print(\"Prime numbers:\", primes)\n"
      ],
      "metadata": {
        "colab": {
          "base_uri": "https://localhost:8080/"
        },
        "id": "73-xj77Fvh14",
        "outputId": "2a2c7cc5-c1de-496b-9a66-21585da90554"
      },
      "execution_count": 21,
      "outputs": [
        {
          "output_type": "stream",
          "name": "stdout",
          "text": [
            "Prime numbers: [761 953 773 313 911 907 349 163 743 787 307 271 373 439 433 401 827]\n"
          ]
        }
      ]
    },
    {
      "cell_type": "markdown",
      "source": [
        "10. Daily Temperatures → Weekly Averages\n",
        "python\n",
        "Copy code\n"
      ],
      "metadata": {
        "id": "wx48obCHvkuL"
      }
    },
    {
      "cell_type": "code",
      "source": [
        "# Simulate daily temperatures for a 30-day month\n",
        "temps = np.random.uniform(15, 35, 30)  # e.g., 15–35°C\n",
        "\n",
        "# Reshape into weeks (6 weeks of 5 days each or 4 full + 2 extra days)\n",
        "weekly = temps[:28].reshape(4, 7)\n",
        "weekly_averages = np.mean(weekly, axis=1)\n",
        "\n",
        "print(\"Weekly averages:\", weekly_averages)\n"
      ],
      "metadata": {
        "colab": {
          "base_uri": "https://localhost:8080/"
        },
        "id": "xYQEXHZCvm8k",
        "outputId": "ea7612ec-c4f8-49a9-c407-5ace2d9596f6"
      },
      "execution_count": 22,
      "outputs": [
        {
          "output_type": "stream",
          "name": "stdout",
          "text": [
            "Weekly averages: [23.80176607 24.91072141 23.93146778 25.64205235]\n"
          ]
        }
      ]
    }
  ]
}